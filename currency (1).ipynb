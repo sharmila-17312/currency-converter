{
  "nbformat": 4,
  "nbformat_minor": 0,
  "metadata": {
    "colab": {
      "provenance": []
    },
    "kernelspec": {
      "name": "python3",
      "display_name": "Python 3"
    },
    "language_info": {
      "name": "python"
    }
  },
  "cells": [
    {
      "cell_type": "code",
      "source": [
        "# Simple Currency Converter\n",
        "\n",
        "def convert_currency(amount, from_currency, to_currency):\n",
        "    # Predefined exchange rates\n",
        "    exchange_rates = {\n",
        "        'USD': 1,    # Base currency (USD)\n",
        "        'EUR': 0.85,\n",
        "        'GBP': 0.75,\n",
        "        'INR': 74.25,\n",
        "        'JPY': 110.0\n",
        "    }\n",
        "\n",
        "    if from_currency not in exchange_rates or to_currency not in exchange_rates:\n",
        "        return None\n",
        "\n",
        "    # Convert amount to USD, then to target currency\n",
        "    amount_in_usd = amount / exchange_rates[from_currency]\n",
        "    converted_amount = amount_in_usd * exchange_rates[to_currency]\n",
        "\n",
        "    return converted_amount\n",
        "\n",
        "\n",
        "def main():\n",
        "    print(\"Welcome to the Simple Currency Converter!\")\n",
        "\n",
        "    # User input\n",
        "    amount = float(input(\"Enter amount: \"))\n",
        "    from_currency = input(\"Enter the currency you are converting from (USD, EUR, GBP, INR, JPY): \").upper()\n",
        "    to_currency = input(\"Enter the currency you are converting to (USD, EUR, GBP, INR, JPY): \").upper()\n",
        "\n",
        "    converted_amount = convert_currency(amount, from_currency, to_currency)\n",
        "\n",
        "    if converted_amount is not None:\n",
        "        print(f\"{amount} {from_currency} is equal to {converted_amount:.2f} {to_currency}\")\n",
        "    else:\n",
        "        print(\"Invalid currency code.\")\n",
        "\n",
        "\n",
        "if __name__ == \"__main__\":\n",
        "    main()"
      ],
      "metadata": {
        "colab": {
          "base_uri": "https://localhost:8080/"
        },
        "id": "xvTsdbOdn3Ni",
        "outputId": "cc9f40b1-b983-4a72-e68c-3c2881187b16"
      },
      "execution_count": 3,
      "outputs": [
        {
          "output_type": "stream",
          "name": "stdout",
          "text": [
            "Welcome to the Simple Currency Converter!\n",
            "Enter amount: 5000\n",
            "Enter the currency you are converting from (USD, EUR, GBP, INR, JPY): JPY\n",
            "Enter the currency you are converting to (USD, EUR, GBP, INR, JPY): EUR\n",
            "5000.0 JPY is equal to 38.64 EUR\n"
          ]
        }
      ]
    }
  ]
}